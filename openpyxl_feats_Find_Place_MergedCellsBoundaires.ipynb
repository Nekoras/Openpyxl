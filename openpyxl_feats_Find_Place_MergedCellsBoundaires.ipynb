{
 "cells": [
  {
   "cell_type": "code",
   "execution_count": 1,
   "metadata": {
    "collapsed": true
   },
   "outputs": [],
   "source": [
    "from openpyxl.worksheet.worksheet import Worksheet\n",
    "\n",
    "#############################################################################################\n",
    "# adding new methods to Worksheet class\n",
    "#############################################################################################\n",
    "\n",
    "def Find(self, valor):\n",
    "    \"\"\" Find value and yield location\"\"\"\n",
    "    for row in self:\n",
    "        for cell in row:\n",
    "\n",
    "            if cell.value == valor:\n",
    "                yield cell.column, str(cell.row)\n",
    "\n",
    "\n",
    "def Find_and_Replace(self, valor, replacement):\n",
    "    \"\"\" find value and replace in the whole sheet \"\"\"\n",
    "    for row in self:\n",
    "        for cell in row:\n",
    "            if cell.value == valor:\n",
    "                cell.value = replacement\n",
    "\n",
    "\n",
    "def Return_Specific_MergedCells_Range(self, initcellvalue):\n",
    "    \"\"\" function to return the range of merged cells\"\"\"\n",
    "    for item in self.merged_cell_ranges:\n",
    "        if initcellvalue in item:\n",
    "            return item\n",
    "\n",
    "\n",
    "Worksheet.Find = Find\n",
    "Worksheet.Find_and_Replace = Find_and_Replace\n",
    "Worksheet.Return_Specific_MergedCells_Range = Return_Specific_MergedCells_Range"
   ]
  }
 ],
 "metadata": {
  "kernelspec": {
   "display_name": "Python 3",
   "language": "python",
   "name": "python3"
  },
  "language_info": {
   "codemirror_mode": {
    "name": "ipython",
    "version": 3
   },
   "file_extension": ".py",
   "mimetype": "text/x-python",
   "name": "python",
   "nbconvert_exporter": "python",
   "pygments_lexer": "ipython3",
   "version": "3.6.1"
  }
 },
 "nbformat": 4,
 "nbformat_minor": 2
}
